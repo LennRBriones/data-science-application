{
 "cells": [
  {
   "cell_type": "code",
   "execution_count": 1,
   "metadata": {},
   "outputs": [],
   "source": [
    "import pickle\n",
    "import boto3 \n",
    "import yaml\n",
    "import pandas as pd\n",
    "import numpy as np\n",
    "import matplotlib.pyplot as plt\n",
    "import seaborn as sns\n",
    "\n",
    "from datetime import date"
   ]
  },
  {
   "cell_type": "code",
   "execution_count": 2,
   "metadata": {},
   "outputs": [],
   "source": [
    "with open(\"credentials.yaml\", \"r\") as f:\n",
    "    config = yaml.safe_load(f)"
   ]
  },
  {
   "cell_type": "markdown",
   "metadata": {},
   "source": [
    "### 1. Cargar datos históricos de S3"
   ]
  },
  {
   "cell_type": "code",
   "execution_count": 3,
   "metadata": {},
   "outputs": [],
   "source": [
    "def cargar_datos_s3(bucket, bucket_path):\n",
    "    session = boto3.Session(\n",
    "        aws_access_key_id = config['s3']['aws_access_key_id'],\n",
    "        aws_secret_access_key = config['s3']['aws_secret_access_key']\n",
    "    )\n",
    "\n",
    "    s3 = session.resource('s3')\n",
    "    \n",
    "    obj = s3.Object(bucket, bucket_path).get()['Body'].read()\n",
    "    dataset = pickle.loads(obj)\n",
    "    \n",
    "    return dataset"
   ]
  },
  {
   "cell_type": "code",
   "execution_count": 4,
   "metadata": {},
   "outputs": [],
   "source": [
    "session = boto3.Session(\n",
    "    aws_access_key_id = config['s3']['aws_access_key_id'],\n",
    "    aws_secret_access_key = config['s3']['aws_secret_access_key']\n",
    ")\n",
    "\n",
    "s3 = session.client('s3')"
   ]
  },
  {
   "cell_type": "code",
   "execution_count": 5,
   "metadata": {},
   "outputs": [],
   "source": [
    "bucket = \"aplicaciones-cd-1\"\n",
    "key = \"ingesta/inicial/\""
   ]
  },
  {
   "cell_type": "code",
   "execution_count": 6,
   "metadata": {},
   "outputs": [],
   "source": [
    "bucket_path = s3.list_objects_v2(Bucket=bucket, Prefix=key)['Contents'][0]['Key']"
   ]
  },
  {
   "cell_type": "code",
   "execution_count": 7,
   "metadata": {},
   "outputs": [
    {
     "data": {
      "text/plain": [
       "'ingesta/inicial/inspecciones-historicas-2020-11-16.pkl'"
      ]
     },
     "execution_count": 7,
     "metadata": {},
     "output_type": "execute_result"
    }
   ],
   "source": [
    "bucket_path"
   ]
  },
  {
   "cell_type": "code",
   "execution_count": 8,
   "metadata": {},
   "outputs": [],
   "source": [
    "dataset = cargar_datos_s3(bucket, bucket_path)"
   ]
  },
  {
   "cell_type": "code",
   "execution_count": 9,
   "metadata": {},
   "outputs": [
    {
     "data": {
      "text/plain": [
       "212910"
      ]
     },
     "execution_count": 9,
     "metadata": {},
     "output_type": "execute_result"
    }
   ],
   "source": [
    "len(dataset)"
   ]
  },
  {
   "cell_type": "markdown",
   "metadata": {},
   "source": [
    "### 2. Transformar datos a DF"
   ]
  },
  {
   "cell_type": "code",
   "execution_count": 10,
   "metadata": {},
   "outputs": [],
   "source": [
    "def transformar_ingesta(dataset):\n",
    "    return pd.DataFrame.from_dict(dataset)"
   ]
  },
  {
   "cell_type": "code",
   "execution_count": 11,
   "metadata": {},
   "outputs": [],
   "source": [
    "df_inspecciones = transformar_ingesta(dataset)"
   ]
  },
  {
   "cell_type": "code",
   "execution_count": 12,
   "metadata": {},
   "outputs": [
    {
     "data": {
      "text/plain": [
       "(212910, 17)"
      ]
     },
     "execution_count": 12,
     "metadata": {},
     "output_type": "execute_result"
    }
   ],
   "source": [
    "df_inspecciones.shape"
   ]
  },
  {
   "cell_type": "code",
   "execution_count": 13,
   "metadata": {},
   "outputs": [
    {
     "data": {
      "text/html": [
       "<div>\n",
       "<style scoped>\n",
       "    .dataframe tbody tr th:only-of-type {\n",
       "        vertical-align: middle;\n",
       "    }\n",
       "\n",
       "    .dataframe tbody tr th {\n",
       "        vertical-align: top;\n",
       "    }\n",
       "\n",
       "    .dataframe thead th {\n",
       "        text-align: right;\n",
       "    }\n",
       "</style>\n",
       "<table border=\"1\" class=\"dataframe\">\n",
       "  <thead>\n",
       "    <tr style=\"text-align: right;\">\n",
       "      <th></th>\n",
       "      <th>inspection_id</th>\n",
       "      <th>dba_name</th>\n",
       "      <th>aka_name</th>\n",
       "      <th>license_</th>\n",
       "      <th>facility_type</th>\n",
       "      <th>risk</th>\n",
       "      <th>address</th>\n",
       "      <th>city</th>\n",
       "      <th>state</th>\n",
       "      <th>zip</th>\n",
       "      <th>inspection_date</th>\n",
       "      <th>inspection_type</th>\n",
       "      <th>results</th>\n",
       "      <th>latitude</th>\n",
       "      <th>longitude</th>\n",
       "      <th>location</th>\n",
       "      <th>violations</th>\n",
       "    </tr>\n",
       "  </thead>\n",
       "  <tbody>\n",
       "    <tr>\n",
       "      <th>0</th>\n",
       "      <td>67733</td>\n",
       "      <td>WOLCOTT'S</td>\n",
       "      <td>TROQUET</td>\n",
       "      <td>1992040</td>\n",
       "      <td>Restaurant</td>\n",
       "      <td>Risk 1 (High)</td>\n",
       "      <td>1834 W MONTROSE AVE</td>\n",
       "      <td>CHICAGO</td>\n",
       "      <td>IL</td>\n",
       "      <td>60613</td>\n",
       "      <td>2010-01-04T00:00:00.000</td>\n",
       "      <td>License Re-Inspection</td>\n",
       "      <td>Pass</td>\n",
       "      <td>41.961605669949854</td>\n",
       "      <td>-87.67596676683779</td>\n",
       "      <td>{'latitude': '-87.67596676683779', 'longitude'...</td>\n",
       "      <td>NaN</td>\n",
       "    </tr>\n",
       "    <tr>\n",
       "      <th>1</th>\n",
       "      <td>67732</td>\n",
       "      <td>WOLCOTT'S</td>\n",
       "      <td>TROQUET</td>\n",
       "      <td>1992039</td>\n",
       "      <td>Restaurant</td>\n",
       "      <td>Risk 1 (High)</td>\n",
       "      <td>1834 W MONTROSE AVE</td>\n",
       "      <td>CHICAGO</td>\n",
       "      <td>IL</td>\n",
       "      <td>60613</td>\n",
       "      <td>2010-01-04T00:00:00.000</td>\n",
       "      <td>License Re-Inspection</td>\n",
       "      <td>Pass</td>\n",
       "      <td>41.961605669949854</td>\n",
       "      <td>-87.67596676683779</td>\n",
       "      <td>{'latitude': '-87.67596676683779', 'longitude'...</td>\n",
       "      <td>NaN</td>\n",
       "    </tr>\n",
       "    <tr>\n",
       "      <th>2</th>\n",
       "      <td>67738</td>\n",
       "      <td>MICHAEL'S ON MAIN CAFE</td>\n",
       "      <td>MICHAEL'S ON MAIN CAFE</td>\n",
       "      <td>2008948</td>\n",
       "      <td>Restaurant</td>\n",
       "      <td>Risk 1 (High)</td>\n",
       "      <td>8750 W BRYN WAWR AVE</td>\n",
       "      <td>CHICAGO</td>\n",
       "      <td>IL</td>\n",
       "      <td>60631</td>\n",
       "      <td>2010-01-04T00:00:00.000</td>\n",
       "      <td>License</td>\n",
       "      <td>Fail</td>\n",
       "      <td>NaN</td>\n",
       "      <td>NaN</td>\n",
       "      <td>NaN</td>\n",
       "      <td>18. NO EVIDENCE OF RODENT OR INSECT OUTER OPEN...</td>\n",
       "    </tr>\n",
       "    <tr>\n",
       "      <th>3</th>\n",
       "      <td>67757</td>\n",
       "      <td>DUNKIN DONUTS/BASKIN-ROBBINS</td>\n",
       "      <td>DUNKIN DONUTS/BASKIN-ROBBINS</td>\n",
       "      <td>1380279</td>\n",
       "      <td>Restaurant</td>\n",
       "      <td>Risk 2 (Medium)</td>\n",
       "      <td>100 W RANDOLPH ST</td>\n",
       "      <td>CHICAGO</td>\n",
       "      <td>IL</td>\n",
       "      <td>60601</td>\n",
       "      <td>2010-01-04T00:00:00.000</td>\n",
       "      <td>Tag Removal</td>\n",
       "      <td>Pass</td>\n",
       "      <td>41.88458626715456</td>\n",
       "      <td>-87.63101044588599</td>\n",
       "      <td>{'latitude': '-87.63101044588599', 'longitude'...</td>\n",
       "      <td>NaN</td>\n",
       "    </tr>\n",
       "    <tr>\n",
       "      <th>4</th>\n",
       "      <td>104236</td>\n",
       "      <td>TEMPO CAFE</td>\n",
       "      <td>TEMPO CAFE</td>\n",
       "      <td>80916</td>\n",
       "      <td>Restaurant</td>\n",
       "      <td>Risk 1 (High)</td>\n",
       "      <td>6 E CHESTNUT ST</td>\n",
       "      <td>CHICAGO</td>\n",
       "      <td>IL</td>\n",
       "      <td>60611</td>\n",
       "      <td>2010-01-04T00:00:00.000</td>\n",
       "      <td>Canvass</td>\n",
       "      <td>Fail</td>\n",
       "      <td>41.89843137207629</td>\n",
       "      <td>-87.6280091630558</td>\n",
       "      <td>{'latitude': '-87.6280091630558', 'longitude':...</td>\n",
       "      <td>18. NO EVIDENCE OF RODENT OR INSECT OUTER OPEN...</td>\n",
       "    </tr>\n",
       "  </tbody>\n",
       "</table>\n",
       "</div>"
      ],
      "text/plain": [
       "  inspection_id                      dba_name                      aka_name  \\\n",
       "0         67733                     WOLCOTT'S                       TROQUET   \n",
       "1         67732                     WOLCOTT'S                       TROQUET   \n",
       "2         67738        MICHAEL'S ON MAIN CAFE        MICHAEL'S ON MAIN CAFE   \n",
       "3         67757  DUNKIN DONUTS/BASKIN-ROBBINS  DUNKIN DONUTS/BASKIN-ROBBINS   \n",
       "4        104236                    TEMPO CAFE                    TEMPO CAFE   \n",
       "\n",
       "  license_ facility_type             risk                address     city  \\\n",
       "0  1992040    Restaurant    Risk 1 (High)   1834 W MONTROSE AVE   CHICAGO   \n",
       "1  1992039    Restaurant    Risk 1 (High)   1834 W MONTROSE AVE   CHICAGO   \n",
       "2  2008948    Restaurant    Risk 1 (High)  8750 W BRYN WAWR AVE   CHICAGO   \n",
       "3  1380279    Restaurant  Risk 2 (Medium)     100 W RANDOLPH ST   CHICAGO   \n",
       "4    80916    Restaurant    Risk 1 (High)       6 E CHESTNUT ST   CHICAGO   \n",
       "\n",
       "  state    zip          inspection_date        inspection_type results  \\\n",
       "0    IL  60613  2010-01-04T00:00:00.000  License Re-Inspection    Pass   \n",
       "1    IL  60613  2010-01-04T00:00:00.000  License Re-Inspection    Pass   \n",
       "2    IL  60631  2010-01-04T00:00:00.000                License    Fail   \n",
       "3    IL  60601  2010-01-04T00:00:00.000            Tag Removal    Pass   \n",
       "4    IL  60611  2010-01-04T00:00:00.000                Canvass    Fail   \n",
       "\n",
       "             latitude           longitude  \\\n",
       "0  41.961605669949854  -87.67596676683779   \n",
       "1  41.961605669949854  -87.67596676683779   \n",
       "2                 NaN                 NaN   \n",
       "3   41.88458626715456  -87.63101044588599   \n",
       "4   41.89843137207629   -87.6280091630558   \n",
       "\n",
       "                                            location  \\\n",
       "0  {'latitude': '-87.67596676683779', 'longitude'...   \n",
       "1  {'latitude': '-87.67596676683779', 'longitude'...   \n",
       "2                                                NaN   \n",
       "3  {'latitude': '-87.63101044588599', 'longitude'...   \n",
       "4  {'latitude': '-87.6280091630558', 'longitude':...   \n",
       "\n",
       "                                          violations  \n",
       "0                                                NaN  \n",
       "1                                                NaN  \n",
       "2  18. NO EVIDENCE OF RODENT OR INSECT OUTER OPEN...  \n",
       "3                                                NaN  \n",
       "4  18. NO EVIDENCE OF RODENT OR INSECT OUTER OPEN...  "
      ]
     },
     "execution_count": 13,
     "metadata": {},
     "output_type": "execute_result"
    }
   ],
   "source": [
    "df_inspecciones.head()"
   ]
  },
  {
   "cell_type": "markdown",
   "metadata": {},
   "source": [
    "### 3. Identificar faltantes"
   ]
  },
  {
   "cell_type": "code",
   "execution_count": 14,
   "metadata": {},
   "outputs": [],
   "source": [
    "def faltantes(df):\n",
    "    return df.isna().sum()"
   ]
  },
  {
   "cell_type": "code",
   "execution_count": 15,
   "metadata": {},
   "outputs": [
    {
     "data": {
      "text/plain": [
       "inspection_id          0\n",
       "dba_name               0\n",
       "aka_name            2484\n",
       "license_              17\n",
       "facility_type       4895\n",
       "risk                  72\n",
       "address                0\n",
       "city                 155\n",
       "state                 48\n",
       "zip                   53\n",
       "inspection_date        0\n",
       "inspection_type        1\n",
       "results                0\n",
       "latitude             703\n",
       "longitude            703\n",
       "location             703\n",
       "violations         56674\n",
       "dtype: int64"
      ]
     },
     "execution_count": 15,
     "metadata": {},
     "output_type": "execute_result"
    }
   ],
   "source": [
    "faltantes(df_inspecciones)"
   ]
  },
  {
   "cell_type": "markdown",
   "metadata": {},
   "source": [
    "### 4. Eliminar inspecciones que no  tienen latitud o longitud"
   ]
  },
  {
   "cell_type": "code",
   "execution_count": 16,
   "metadata": {},
   "outputs": [],
   "source": [
    "def elimina_faltantes_latitud_logintud(cols, df):\n",
    "    for col in cols:\n",
    "        df =  df[df[col].notnull()]\n",
    "    \n",
    "    return df"
   ]
  },
  {
   "cell_type": "code",
   "execution_count": 17,
   "metadata": {},
   "outputs": [],
   "source": [
    "inspecciones = elimina_faltantes_latitud_logintud(['latitude', 'longitude'], df_inspecciones)"
   ]
  },
  {
   "cell_type": "code",
   "execution_count": 18,
   "metadata": {},
   "outputs": [
    {
     "data": {
      "text/plain": [
       "inspection_id          0\n",
       "dba_name               0\n",
       "aka_name            2472\n",
       "license_              17\n",
       "facility_type       4880\n",
       "risk                  70\n",
       "address                0\n",
       "city                 151\n",
       "state                 48\n",
       "zip                   49\n",
       "inspection_date        0\n",
       "inspection_type        1\n",
       "results                0\n",
       "latitude               0\n",
       "longitude              0\n",
       "location               0\n",
       "violations         56485\n",
       "dtype: int64"
      ]
     },
     "execution_count": 18,
     "metadata": {},
     "output_type": "execute_result"
    }
   ],
   "source": [
    "faltantes(inspecciones)"
   ]
  },
  {
   "cell_type": "markdown",
   "metadata": {},
   "source": [
    "### 5. Imputar faltantes"
   ]
  },
  {
   "cell_type": "code",
   "execution_count": 19,
   "metadata": {},
   "outputs": [],
   "source": [
    "def imputar_faltantes(col, value, df):\n",
    "    df[col].fillna(value, inplace=True)"
   ]
  },
  {
   "cell_type": "code",
   "execution_count": 40,
   "metadata": {},
   "outputs": [],
   "source": [
    "# license_\n",
    "imputar_faltantes('license_', str(inspecciones.license_.mode()), inspecciones)\n",
    "# zip\n",
    "imputar_faltantes('zip', str(inspecciones.zip.mode()), inspecciones)\n",
    "# state\n",
    "imputar_faltantes('state', str(inspecciones.state.mode()), inspecciones)\n",
    "# facility_type\n",
    "imputar_faltantes('facility_type', str(inspecciones.facility_type.mode()), inspecciones)\n",
    "# risk\n",
    "imputar_faltantes('risk', str(inspecciones.risk.mode()), inspecciones)"
   ]
  },
  {
   "cell_type": "code",
   "execution_count": 41,
   "metadata": {},
   "outputs": [
    {
     "data": {
      "text/plain": [
       "inspection_id          0\n",
       "dba_name               0\n",
       "aka_name            2472\n",
       "license_               0\n",
       "facility_type          0\n",
       "risk                   0\n",
       "address                0\n",
       "city                 151\n",
       "state                  0\n",
       "zip                    0\n",
       "inspection_date        0\n",
       "inspection_type        1\n",
       "results                0\n",
       "latitude               0\n",
       "longitude              0\n",
       "location               0\n",
       "violations         56485\n",
       "dtype: int64"
      ]
     },
     "execution_count": 41,
     "metadata": {},
     "output_type": "execute_result"
    }
   ],
   "source": [
    "faltantes(inspecciones)"
   ]
  },
  {
   "cell_type": "markdown",
   "metadata": {},
   "source": [
    "### 6. Transformación de enteros"
   ]
  },
  {
   "cell_type": "code",
   "execution_count": 42,
   "metadata": {},
   "outputs": [],
   "source": [
    "def transformar_enteros(cols, df):\n",
    "    for element in cols:\n",
    "        df[element] = df[element].astype(int)\n",
    "    \n",
    "    return df"
   ]
  },
  {
   "cell_type": "code",
   "execution_count": 43,
   "metadata": {},
   "outputs": [],
   "source": [
    "inspecciones = transformar_enteros(['inspection_id'], inspecciones)"
   ]
  },
  {
   "cell_type": "code",
   "execution_count": 44,
   "metadata": {},
   "outputs": [
    {
     "data": {
      "text/plain": [
       "inspection_id               int64\n",
       "dba_name                   object\n",
       "aka_name                   object\n",
       "license_                   object\n",
       "facility_type              object\n",
       "risk                       object\n",
       "address                    object\n",
       "city                       object\n",
       "state                      object\n",
       "zip                        object\n",
       "inspection_date    datetime64[ns]\n",
       "inspection_type            object\n",
       "results                    object\n",
       "latitude                  float64\n",
       "longitude                 float64\n",
       "location                   object\n",
       "violations                 object\n",
       "dtype: object"
      ]
     },
     "execution_count": 44,
     "metadata": {},
     "output_type": "execute_result"
    }
   ],
   "source": [
    "inspecciones.dtypes"
   ]
  },
  {
   "cell_type": "markdown",
   "metadata": {},
   "source": [
    "### 7. Transformación flotantes"
   ]
  },
  {
   "cell_type": "code",
   "execution_count": 45,
   "metadata": {},
   "outputs": [],
   "source": [
    "def transformar_flotantes(cols, df):\n",
    "    for col in cols:\n",
    "        df[col] = df[col].astype(float)\n",
    "    \n",
    "    return df"
   ]
  },
  {
   "cell_type": "code",
   "execution_count": 46,
   "metadata": {},
   "outputs": [],
   "source": [
    "inspecciones = transformar_flotantes(['latitude', 'longitude'], inspecciones)"
   ]
  },
  {
   "cell_type": "code",
   "execution_count": 47,
   "metadata": {},
   "outputs": [
    {
     "data": {
      "text/plain": [
       "inspection_id               int64\n",
       "dba_name                   object\n",
       "aka_name                   object\n",
       "license_                   object\n",
       "facility_type              object\n",
       "risk                       object\n",
       "address                    object\n",
       "city                       object\n",
       "state                      object\n",
       "zip                        object\n",
       "inspection_date    datetime64[ns]\n",
       "inspection_type            object\n",
       "results                    object\n",
       "latitude                  float64\n",
       "longitude                 float64\n",
       "location                   object\n",
       "violations                 object\n",
       "dtype: object"
      ]
     },
     "execution_count": 47,
     "metadata": {},
     "output_type": "execute_result"
    }
   ],
   "source": [
    "inspecciones.dtypes"
   ]
  },
  {
   "cell_type": "markdown",
   "metadata": {},
   "source": [
    "### 8. Transformaciones fechas"
   ]
  },
  {
   "cell_type": "code",
   "execution_count": 48,
   "metadata": {},
   "outputs": [],
   "source": [
    "def transformar_fechas(cols, df):\n",
    "    for col in cols:\n",
    "        df[col] = pd.to_datetime(df[col])\n",
    "    \n",
    "    return df"
   ]
  },
  {
   "cell_type": "code",
   "execution_count": 49,
   "metadata": {},
   "outputs": [],
   "source": [
    "inspecciones = transformar_fechas(['inspection_date'], inspecciones)"
   ]
  },
  {
   "cell_type": "code",
   "execution_count": 50,
   "metadata": {},
   "outputs": [
    {
     "data": {
      "text/plain": [
       "inspection_id               int64\n",
       "dba_name                   object\n",
       "aka_name                   object\n",
       "license_                   object\n",
       "facility_type              object\n",
       "risk                       object\n",
       "address                    object\n",
       "city                       object\n",
       "state                      object\n",
       "zip                        object\n",
       "inspection_date    datetime64[ns]\n",
       "inspection_type            object\n",
       "results                    object\n",
       "latitude                  float64\n",
       "longitude                 float64\n",
       "location                   object\n",
       "violations                 object\n",
       "dtype: object"
      ]
     },
     "execution_count": 50,
     "metadata": {},
     "output_type": "execute_result"
    }
   ],
   "source": [
    "inspecciones.dtypes"
   ]
  },
  {
   "cell_type": "markdown",
   "metadata": {},
   "source": [
    "### 9. Data profiling categorías"
   ]
  },
  {
   "cell_type": "code",
   "execution_count": 51,
   "metadata": {},
   "outputs": [],
   "source": [
    "def data_profiling_string(cols, df):\n",
    "    data_profiling = {}\n",
    "    for col in cols:\n",
    "        data_profiling[col] = {'uniques': df[col].nunique(), \n",
    "                               'prop_uniques': df[col].nunique()/df[col].shape[0],\n",
    "                              'mode': df[col].mode()} \n",
    "\n",
    "    return pd.DataFrame.from_dict(data_profiling)"
   ]
  },
  {
   "cell_type": "code",
   "execution_count": 52,
   "metadata": {},
   "outputs": [
    {
     "data": {
      "text/html": [
       "<div>\n",
       "<style scoped>\n",
       "    .dataframe tbody tr th:only-of-type {\n",
       "        vertical-align: middle;\n",
       "    }\n",
       "\n",
       "    .dataframe tbody tr th {\n",
       "        vertical-align: top;\n",
       "    }\n",
       "\n",
       "    .dataframe thead th {\n",
       "        text-align: right;\n",
       "    }\n",
       "</style>\n",
       "<table border=\"1\" class=\"dataframe\">\n",
       "  <thead>\n",
       "    <tr style=\"text-align: right;\">\n",
       "      <th></th>\n",
       "      <th>dba_name</th>\n",
       "      <th>aka_name</th>\n",
       "      <th>license_</th>\n",
       "    </tr>\n",
       "  </thead>\n",
       "  <tbody>\n",
       "    <tr>\n",
       "      <th>uniques</th>\n",
       "      <td>28474</td>\n",
       "      <td>27099</td>\n",
       "      <td>38739</td>\n",
       "    </tr>\n",
       "    <tr>\n",
       "      <th>prop_uniques</th>\n",
       "      <td>0.13418</td>\n",
       "      <td>0.127701</td>\n",
       "      <td>0.182553</td>\n",
       "    </tr>\n",
       "    <tr>\n",
       "      <th>mode</th>\n",
       "      <td>0    SUBWAY\n",
       "dtype: object</td>\n",
       "      <td>0    SUBWAY\n",
       "dtype: object</td>\n",
       "      <td>0    0\n",
       "dtype: object</td>\n",
       "    </tr>\n",
       "  </tbody>\n",
       "</table>\n",
       "</div>"
      ],
      "text/plain": [
       "                               dba_name                   aka_name  \\\n",
       "uniques                           28474                      27099   \n",
       "prop_uniques                    0.13418                   0.127701   \n",
       "mode          0    SUBWAY\n",
       "dtype: object  0    SUBWAY\n",
       "dtype: object   \n",
       "\n",
       "                          license_  \n",
       "uniques                      38739  \n",
       "prop_uniques              0.182553  \n",
       "mode          0    0\n",
       "dtype: object  "
      ]
     },
     "execution_count": 52,
     "metadata": {},
     "output_type": "execute_result"
    }
   ],
   "source": [
    "data_profiling_string(['dba_name', 'aka_name', 'license_'], inspecciones)"
   ]
  },
  {
   "cell_type": "markdown",
   "metadata": {},
   "source": [
    "### 10. Data profiling fechas"
   ]
  },
  {
   "cell_type": "code",
   "execution_count": 53,
   "metadata": {},
   "outputs": [],
   "source": [
    "def data_profiling_fechas(cols, df):\n",
    "    data_profiling = {}\n",
    "    for col in cols:\n",
    "        data_profiling[col] = {'uniques': df[col].nunique(), \n",
    "                               'prop_uniques': df[col].nunique()/df[col].shape[0],\n",
    "                              'fecha_minima': df[col].min(),\n",
    "                              'fecha_maxima': df[col].max(),\n",
    "                              'anios_diferentes': df[col].dt.year.nunique(),\n",
    "                              'dias_diferentes': df[col].max() - df[col].min()} \n",
    "\n",
    "    return pd.DataFrame.from_dict(data_profiling)"
   ]
  },
  {
   "cell_type": "code",
   "execution_count": 54,
   "metadata": {},
   "outputs": [
    {
     "data": {
      "text/html": [
       "<div>\n",
       "<style scoped>\n",
       "    .dataframe tbody tr th:only-of-type {\n",
       "        vertical-align: middle;\n",
       "    }\n",
       "\n",
       "    .dataframe tbody tr th {\n",
       "        vertical-align: top;\n",
       "    }\n",
       "\n",
       "    .dataframe thead th {\n",
       "        text-align: right;\n",
       "    }\n",
       "</style>\n",
       "<table border=\"1\" class=\"dataframe\">\n",
       "  <thead>\n",
       "    <tr style=\"text-align: right;\">\n",
       "      <th></th>\n",
       "      <th>inspection_date</th>\n",
       "    </tr>\n",
       "  </thead>\n",
       "  <tbody>\n",
       "    <tr>\n",
       "      <th>anios_diferentes</th>\n",
       "      <td>11</td>\n",
       "    </tr>\n",
       "    <tr>\n",
       "      <th>dias_diferentes</th>\n",
       "      <td>3966 days 00:00:00</td>\n",
       "    </tr>\n",
       "    <tr>\n",
       "      <th>fecha_maxima</th>\n",
       "      <td>2020-11-13 00:00:00</td>\n",
       "    </tr>\n",
       "    <tr>\n",
       "      <th>fecha_minima</th>\n",
       "      <td>2010-01-04 00:00:00</td>\n",
       "    </tr>\n",
       "    <tr>\n",
       "      <th>prop_uniques</th>\n",
       "      <td>0.0129779</td>\n",
       "    </tr>\n",
       "    <tr>\n",
       "      <th>uniques</th>\n",
       "      <td>2754</td>\n",
       "    </tr>\n",
       "  </tbody>\n",
       "</table>\n",
       "</div>"
      ],
      "text/plain": [
       "                      inspection_date\n",
       "anios_diferentes                   11\n",
       "dias_diferentes    3966 days 00:00:00\n",
       "fecha_maxima      2020-11-13 00:00:00\n",
       "fecha_minima      2010-01-04 00:00:00\n",
       "prop_uniques                0.0129779\n",
       "uniques                          2754"
      ]
     },
     "execution_count": 54,
     "metadata": {},
     "output_type": "execute_result"
    }
   ],
   "source": [
    "data_profiling_fechas(['inspection_date'], inspecciones)"
   ]
  },
  {
   "cell_type": "markdown",
   "metadata": {},
   "source": [
    "### 11. Guardar datos limpios en s3"
   ]
  },
  {
   "cell_type": "code",
   "execution_count": 55,
   "metadata": {},
   "outputs": [],
   "source": [
    "def guardar_datos_s3(bucket, bucket_path, dataset):\n",
    "    session = boto3.Session(\n",
    "        aws_access_key_id = config['s3']['aws_access_key_id'],\n",
    "        aws_secret_access_key = config['s3']['aws_secret_access_key']\n",
    "    )\n",
    "\n",
    "    s3 = session.resource('s3')\n",
    "\n",
    "    s3.Object(bucket, bucket_path).put(Body=dataset)"
   ]
  },
  {
   "cell_type": "code",
   "execution_count": 56,
   "metadata": {},
   "outputs": [],
   "source": [
    "TODAY = date.today()"
   ]
  },
  {
   "cell_type": "code",
   "execution_count": 57,
   "metadata": {},
   "outputs": [],
   "source": [
    "pickle_data = pickle.dumps(inspecciones)"
   ]
  },
  {
   "cell_type": "code",
   "execution_count": 58,
   "metadata": {},
   "outputs": [],
   "source": [
    "bucket = \"aplicaciones-cd-1\"\n",
    "key = \"limpieza/datos-limpios-\" + str(TODAY) + \".pkl\"\n",
    "\n",
    "guardar_datos_s3(bucket, key, pickle_data)"
   ]
  },
  {
   "cell_type": "code",
   "execution_count": null,
   "metadata": {},
   "outputs": [],
   "source": []
  },
  {
   "cell_type": "code",
   "execution_count": null,
   "metadata": {},
   "outputs": [],
   "source": []
  }
 ],
 "metadata": {
  "kernelspec": {
   "display_name": "iexe",
   "language": "python",
   "name": "iexe"
  },
  "language_info": {
   "codemirror_mode": {
    "name": "ipython",
    "version": 3
   },
   "file_extension": ".py",
   "mimetype": "text/x-python",
   "name": "python",
   "nbconvert_exporter": "python",
   "pygments_lexer": "ipython3",
   "version": "3.7.4"
  }
 },
 "nbformat": 4,
 "nbformat_minor": 2
}
