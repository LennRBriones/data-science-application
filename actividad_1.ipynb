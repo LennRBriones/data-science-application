{
  "cells": [
    {
      "cell_type": "code",
      "execution_count": null,
      "metadata": {
        "id": "YkkavPNyrvNW"
      },
      "outputs": [],
      "source": [
        "import numpy as np\n",
        "import pandas as pd"
      ]
    },
    {
      "cell_type": "code",
      "execution_count": null,
      "metadata": {
        "id": "GjILt1OZrvNX"
      },
      "outputs": [],
      "source": [
        "food = pd.read_csv(\"Food_Inspections.csv\")"
      ]
    },
    {
      "cell_type": "markdown",
      "metadata": {
        "id": "Krmz7UT-rvNX"
      },
      "source": [
        "3. ¿Cuántas inspecciones tiene el archivo?"
      ]
    },
    {
      "cell_type": "code",
      "execution_count": null,
      "metadata": {
        "colab": {
          "base_uri": "https://localhost:8080/"
        },
        "id": "3WmfcoAHrvNY",
        "outputId": "1a6aea6d-b8f1-401c-84e7-9f7c7e4742a9"
      },
      "outputs": [
        {
          "output_type": "execute_result",
          "data": {
            "text/plain": [
              "(33618, 17)"
            ]
          },
          "metadata": {},
          "execution_count": 16
        }
      ],
      "source": [
        "food.shape"
      ]
    },
    {
      "cell_type": "code",
      "execution_count": null,
      "metadata": {
        "colab": {
          "base_uri": "https://localhost:8080/",
          "height": 444
        },
        "id": "X-l4z2HkrvNZ",
        "outputId": "86804811-dd35-41f7-bd6c-6608f87d2a0c"
      },
      "outputs": [
        {
          "output_type": "execute_result",
          "data": {
            "text/plain": [
              "   inspection_id                    dba_name                    aka_name  \\\n",
              "0        2473041         ROSATI'S GRANT PARK                    ROSATI'S   \n",
              "1        2473009  JENI'S SPLENDID ICE CREAMS  JENI'S SPLENDID ICE CREAMS   \n",
              "2        2453552          CLAMP DOWN BURGERS                         NaN   \n",
              "3        2386634                  MY BUDDY'S                  MY BUDDY'S   \n",
              "4        2386595               LA BIZNAGA #2               LA BIZNAGA #2   \n",
              "\n",
              "   license_# facility_type             risk                 address     city  \\\n",
              "0  2762683.0    Restaurant    Risk 1 (High)          23 E ADAMS ST   CHICAGO   \n",
              "1  2767260.0    Restaurant  Risk 2 (Medium)  2512 N MILKWAUKEE AVE   CHICAGO   \n",
              "2  2749943.0           NaN  Risk 2 (Medium)     1742 W DIVISION ST   CHICAGO   \n",
              "3    21943.0    Restaurant    Risk 1 (High)        4416 N CLARK ST   CHICAGO   \n",
              "4  2708992.0           NaN    Risk 1 (High)     2949 W BELMONT AVE   CHICAGO   \n",
              "\n",
              "  state      zip inspection_date inspection_type   results violations  \\\n",
              "0    IL  60603.0      01/22/2021         License      Pass        NaN   \n",
              "1    IL  60647.0      01/22/2021         License      Pass        NaN   \n",
              "2    IL  60622.0      10/20/2020         License  No Entry        NaN   \n",
              "3    IL  60640.0      08/28/2020         Canvass  No Entry        NaN   \n",
              "4    IL  60618.0      08/27/2020       Complaint  No Entry        NaN   \n",
              "\n",
              "    latitude  longitude                                  location  \n",
              "0  41.879391 -87.626848  (-87.62684825563626, 41.879391313239694)  \n",
              "1        NaN        NaN                                       NaN  \n",
              "2  41.903387 -87.671740  (-87.67174026586648, 41.903386755553484)  \n",
              "3  41.962160 -87.666219   (-87.6662185738834, 41.962159720050074)  \n",
              "4  41.939256 -87.702270  (-87.70226967930802, 41.939255926667535)  "
            ],
            "text/html": [
              "\n",
              "  <div id=\"df-bda39053-f3a9-4552-b9c3-0bef06179a85\">\n",
              "    <div class=\"colab-df-container\">\n",
              "      <div>\n",
              "<style scoped>\n",
              "    .dataframe tbody tr th:only-of-type {\n",
              "        vertical-align: middle;\n",
              "    }\n",
              "\n",
              "    .dataframe tbody tr th {\n",
              "        vertical-align: top;\n",
              "    }\n",
              "\n",
              "    .dataframe thead th {\n",
              "        text-align: right;\n",
              "    }\n",
              "</style>\n",
              "<table border=\"1\" class=\"dataframe\">\n",
              "  <thead>\n",
              "    <tr style=\"text-align: right;\">\n",
              "      <th></th>\n",
              "      <th>inspection_id</th>\n",
              "      <th>dba_name</th>\n",
              "      <th>aka_name</th>\n",
              "      <th>license_#</th>\n",
              "      <th>facility_type</th>\n",
              "      <th>risk</th>\n",
              "      <th>address</th>\n",
              "      <th>city</th>\n",
              "      <th>state</th>\n",
              "      <th>zip</th>\n",
              "      <th>inspection_date</th>\n",
              "      <th>inspection_type</th>\n",
              "      <th>results</th>\n",
              "      <th>violations</th>\n",
              "      <th>latitude</th>\n",
              "      <th>longitude</th>\n",
              "      <th>location</th>\n",
              "    </tr>\n",
              "  </thead>\n",
              "  <tbody>\n",
              "    <tr>\n",
              "      <th>0</th>\n",
              "      <td>2473041</td>\n",
              "      <td>ROSATI'S GRANT PARK</td>\n",
              "      <td>ROSATI'S</td>\n",
              "      <td>2762683.0</td>\n",
              "      <td>Restaurant</td>\n",
              "      <td>Risk 1 (High)</td>\n",
              "      <td>23 E ADAMS ST</td>\n",
              "      <td>CHICAGO</td>\n",
              "      <td>IL</td>\n",
              "      <td>60603.0</td>\n",
              "      <td>01/22/2021</td>\n",
              "      <td>License</td>\n",
              "      <td>Pass</td>\n",
              "      <td>NaN</td>\n",
              "      <td>41.879391</td>\n",
              "      <td>-87.626848</td>\n",
              "      <td>(-87.62684825563626, 41.879391313239694)</td>\n",
              "    </tr>\n",
              "    <tr>\n",
              "      <th>1</th>\n",
              "      <td>2473009</td>\n",
              "      <td>JENI'S SPLENDID ICE CREAMS</td>\n",
              "      <td>JENI'S SPLENDID ICE CREAMS</td>\n",
              "      <td>2767260.0</td>\n",
              "      <td>Restaurant</td>\n",
              "      <td>Risk 2 (Medium)</td>\n",
              "      <td>2512 N MILKWAUKEE AVE</td>\n",
              "      <td>CHICAGO</td>\n",
              "      <td>IL</td>\n",
              "      <td>60647.0</td>\n",
              "      <td>01/22/2021</td>\n",
              "      <td>License</td>\n",
              "      <td>Pass</td>\n",
              "      <td>NaN</td>\n",
              "      <td>NaN</td>\n",
              "      <td>NaN</td>\n",
              "      <td>NaN</td>\n",
              "    </tr>\n",
              "    <tr>\n",
              "      <th>2</th>\n",
              "      <td>2453552</td>\n",
              "      <td>CLAMP DOWN BURGERS</td>\n",
              "      <td>NaN</td>\n",
              "      <td>2749943.0</td>\n",
              "      <td>NaN</td>\n",
              "      <td>Risk 2 (Medium)</td>\n",
              "      <td>1742 W DIVISION ST</td>\n",
              "      <td>CHICAGO</td>\n",
              "      <td>IL</td>\n",
              "      <td>60622.0</td>\n",
              "      <td>10/20/2020</td>\n",
              "      <td>License</td>\n",
              "      <td>No Entry</td>\n",
              "      <td>NaN</td>\n",
              "      <td>41.903387</td>\n",
              "      <td>-87.671740</td>\n",
              "      <td>(-87.67174026586648, 41.903386755553484)</td>\n",
              "    </tr>\n",
              "    <tr>\n",
              "      <th>3</th>\n",
              "      <td>2386634</td>\n",
              "      <td>MY BUDDY'S</td>\n",
              "      <td>MY BUDDY'S</td>\n",
              "      <td>21943.0</td>\n",
              "      <td>Restaurant</td>\n",
              "      <td>Risk 1 (High)</td>\n",
              "      <td>4416 N CLARK ST</td>\n",
              "      <td>CHICAGO</td>\n",
              "      <td>IL</td>\n",
              "      <td>60640.0</td>\n",
              "      <td>08/28/2020</td>\n",
              "      <td>Canvass</td>\n",
              "      <td>No Entry</td>\n",
              "      <td>NaN</td>\n",
              "      <td>41.962160</td>\n",
              "      <td>-87.666219</td>\n",
              "      <td>(-87.6662185738834, 41.962159720050074)</td>\n",
              "    </tr>\n",
              "    <tr>\n",
              "      <th>4</th>\n",
              "      <td>2386595</td>\n",
              "      <td>LA BIZNAGA #2</td>\n",
              "      <td>LA BIZNAGA #2</td>\n",
              "      <td>2708992.0</td>\n",
              "      <td>NaN</td>\n",
              "      <td>Risk 1 (High)</td>\n",
              "      <td>2949 W BELMONT AVE</td>\n",
              "      <td>CHICAGO</td>\n",
              "      <td>IL</td>\n",
              "      <td>60618.0</td>\n",
              "      <td>08/27/2020</td>\n",
              "      <td>Complaint</td>\n",
              "      <td>No Entry</td>\n",
              "      <td>NaN</td>\n",
              "      <td>41.939256</td>\n",
              "      <td>-87.702270</td>\n",
              "      <td>(-87.70226967930802, 41.939255926667535)</td>\n",
              "    </tr>\n",
              "  </tbody>\n",
              "</table>\n",
              "</div>\n",
              "      <button class=\"colab-df-convert\" onclick=\"convertToInteractive('df-bda39053-f3a9-4552-b9c3-0bef06179a85')\"\n",
              "              title=\"Convert this dataframe to an interactive table.\"\n",
              "              style=\"display:none;\">\n",
              "        \n",
              "  <svg xmlns=\"http://www.w3.org/2000/svg\" height=\"24px\"viewBox=\"0 0 24 24\"\n",
              "       width=\"24px\">\n",
              "    <path d=\"M0 0h24v24H0V0z\" fill=\"none\"/>\n",
              "    <path d=\"M18.56 5.44l.94 2.06.94-2.06 2.06-.94-2.06-.94-.94-2.06-.94 2.06-2.06.94zm-11 1L8.5 8.5l.94-2.06 2.06-.94-2.06-.94L8.5 2.5l-.94 2.06-2.06.94zm10 10l.94 2.06.94-2.06 2.06-.94-2.06-.94-.94-2.06-.94 2.06-2.06.94z\"/><path d=\"M17.41 7.96l-1.37-1.37c-.4-.4-.92-.59-1.43-.59-.52 0-1.04.2-1.43.59L10.3 9.45l-7.72 7.72c-.78.78-.78 2.05 0 2.83L4 21.41c.39.39.9.59 1.41.59.51 0 1.02-.2 1.41-.59l7.78-7.78 2.81-2.81c.8-.78.8-2.07 0-2.86zM5.41 20L4 18.59l7.72-7.72 1.47 1.35L5.41 20z\"/>\n",
              "  </svg>\n",
              "      </button>\n",
              "      \n",
              "  <style>\n",
              "    .colab-df-container {\n",
              "      display:flex;\n",
              "      flex-wrap:wrap;\n",
              "      gap: 12px;\n",
              "    }\n",
              "\n",
              "    .colab-df-convert {\n",
              "      background-color: #E8F0FE;\n",
              "      border: none;\n",
              "      border-radius: 50%;\n",
              "      cursor: pointer;\n",
              "      display: none;\n",
              "      fill: #1967D2;\n",
              "      height: 32px;\n",
              "      padding: 0 0 0 0;\n",
              "      width: 32px;\n",
              "    }\n",
              "\n",
              "    .colab-df-convert:hover {\n",
              "      background-color: #E2EBFA;\n",
              "      box-shadow: 0px 1px 2px rgba(60, 64, 67, 0.3), 0px 1px 3px 1px rgba(60, 64, 67, 0.15);\n",
              "      fill: #174EA6;\n",
              "    }\n",
              "\n",
              "    [theme=dark] .colab-df-convert {\n",
              "      background-color: #3B4455;\n",
              "      fill: #D2E3FC;\n",
              "    }\n",
              "\n",
              "    [theme=dark] .colab-df-convert:hover {\n",
              "      background-color: #434B5C;\n",
              "      box-shadow: 0px 1px 3px 1px rgba(0, 0, 0, 0.15);\n",
              "      filter: drop-shadow(0px 1px 2px rgba(0, 0, 0, 0.3));\n",
              "      fill: #FFFFFF;\n",
              "    }\n",
              "  </style>\n",
              "\n",
              "      <script>\n",
              "        const buttonEl =\n",
              "          document.querySelector('#df-bda39053-f3a9-4552-b9c3-0bef06179a85 button.colab-df-convert');\n",
              "        buttonEl.style.display =\n",
              "          google.colab.kernel.accessAllowed ? 'block' : 'none';\n",
              "\n",
              "        async function convertToInteractive(key) {\n",
              "          const element = document.querySelector('#df-bda39053-f3a9-4552-b9c3-0bef06179a85');\n",
              "          const dataTable =\n",
              "            await google.colab.kernel.invokeFunction('convertToInteractive',\n",
              "                                                     [key], {});\n",
              "          if (!dataTable) return;\n",
              "\n",
              "          const docLinkHtml = 'Like what you see? Visit the ' +\n",
              "            '<a target=\"_blank\" href=https://colab.research.google.com/notebooks/data_table.ipynb>data table notebook</a>'\n",
              "            + ' to learn more about interactive tables.';\n",
              "          element.innerHTML = '';\n",
              "          dataTable['output_type'] = 'display_data';\n",
              "          await google.colab.output.renderOutput(dataTable, element);\n",
              "          const docLink = document.createElement('div');\n",
              "          docLink.innerHTML = docLinkHtml;\n",
              "          element.appendChild(docLink);\n",
              "        }\n",
              "      </script>\n",
              "    </div>\n",
              "  </div>\n",
              "  "
            ]
          },
          "metadata": {},
          "execution_count": 15
        }
      ],
      "source": [
        "food.head()"
      ]
    },
    {
      "cell_type": "code",
      "execution_count": null,
      "metadata": {
        "id": "19kmXR-1rvNZ"
      },
      "outputs": [],
      "source": [
        "food.rename(columns={col: col.lower().replace(' ','_') for col in food.columns.values}, inplace=True)"
      ]
    },
    {
      "cell_type": "code",
      "execution_count": null,
      "metadata": {
        "colab": {
          "base_uri": "https://localhost:8080/"
        },
        "id": "HxhPlTbsrvNa",
        "outputId": "120219f9-b28d-46f7-8a2c-f6fecff56a1b"
      },
      "outputs": [
        {
          "output_type": "execute_result",
          "data": {
            "text/plain": [
              "array(['inspection_id', 'dba_name', 'aka_name', 'license_#',\n",
              "       'facility_type', 'risk', 'address', 'city', 'state', 'zip',\n",
              "       'inspection_date', 'inspection_type', 'results', 'violations',\n",
              "       'latitude', 'longitude', 'location'], dtype=object)"
            ]
          },
          "metadata": {},
          "execution_count": 8
        }
      ],
      "source": [
        "food.columns.values"
      ]
    },
    {
      "cell_type": "markdown",
      "metadata": {
        "id": "dLi4VBFLrvNa"
      },
      "source": [
        "4 y 5. ¿Hasta qué fecha tienes inspecciones?"
      ]
    },
    {
      "cell_type": "code",
      "execution_count": null,
      "metadata": {
        "colab": {
          "base_uri": "https://localhost:8080/"
        },
        "id": "PqxTWKCyrvNa",
        "outputId": "0aee2487-bd8a-4882-bae2-26380881de1a"
      },
      "outputs": [
        {
          "output_type": "execute_result",
          "data": {
            "text/plain": [
              "('01/02/2013', '12/31/2020')"
            ]
          },
          "metadata": {},
          "execution_count": 9
        }
      ],
      "source": [
        "(food['inspection_date'].min(), food['inspection_date'].max())"
      ]
    },
    {
      "cell_type": "markdown",
      "metadata": {
        "id": "kJ3_YhAorvNa"
      },
      "source": [
        "6. ¿Cuántas variables diferentes tienes en el dataset?"
      ]
    },
    {
      "cell_type": "code",
      "execution_count": null,
      "metadata": {
        "colab": {
          "base_uri": "https://localhost:8080/"
        },
        "id": "o4OkHya9rvNb",
        "outputId": "17bbdaab-f424-4f5a-d63a-c7ff5eb6527a"
      },
      "outputs": [
        {
          "output_type": "execute_result",
          "data": {
            "text/plain": [
              "17"
            ]
          },
          "metadata": {},
          "execution_count": 10
        }
      ],
      "source": [
        "len(food.columns.values)"
      ]
    },
    {
      "cell_type": "markdown",
      "metadata": {
        "id": "t2156shQrvNb"
      },
      "source": [
        "7. ¿En cuántas ciudades diferentes se han hecho inspecciones? "
      ]
    },
    {
      "cell_type": "code",
      "execution_count": null,
      "metadata": {
        "colab": {
          "base_uri": "https://localhost:8080/"
        },
        "id": "giEnD_w8rvNb",
        "outputId": "1f44b593-5a74-43dc-c628-b9dcd292a96c"
      },
      "outputs": [
        {
          "output_type": "execute_result",
          "data": {
            "text/plain": [
              "35"
            ]
          },
          "metadata": {},
          "execution_count": 17
        }
      ],
      "source": [
        "food.city.nunique()"
      ]
    },
    {
      "cell_type": "markdown",
      "metadata": {
        "id": "tBAikF_frvNb"
      },
      "source": [
        "8. ¿Cuántos tipos de resultados diferentes hay?"
      ]
    },
    {
      "cell_type": "code",
      "execution_count": null,
      "metadata": {
        "colab": {
          "base_uri": "https://localhost:8080/"
        },
        "id": "l7pBcry6rvNc",
        "outputId": "ec9fdb49-eeb1-4294-d059-f4da9bea017e"
      },
      "outputs": [
        {
          "output_type": "execute_result",
          "data": {
            "text/plain": [
              "7"
            ]
          },
          "metadata": {},
          "execution_count": 18
        }
      ],
      "source": [
        "food.results.nunique()"
      ]
    },
    {
      "cell_type": "markdown",
      "metadata": {
        "id": "SeIIzzS5rvNc"
      },
      "source": [
        "9. ¿Cuántos tipos de establecimientos diferentes hay?"
      ]
    },
    {
      "cell_type": "code",
      "execution_count": null,
      "metadata": {
        "colab": {
          "base_uri": "https://localhost:8080/"
        },
        "id": "n9w02Fr4rvNc",
        "outputId": "750e1bea-d918-4bc5-b07a-6965218aff94"
      },
      "outputs": [
        {
          "output_type": "execute_result",
          "data": {
            "text/plain": [
              "255"
            ]
          },
          "metadata": {},
          "execution_count": 19
        }
      ],
      "source": [
        "food.facility_type.nunique()"
      ]
    },
    {
      "cell_type": "markdown",
      "metadata": {
        "id": "-6HS0nKhrvNc"
      },
      "source": [
        "10. ¿Cuántos establecimiento tienen violaciones? "
      ]
    },
    {
      "cell_type": "code",
      "execution_count": null,
      "metadata": {
        "colab": {
          "base_uri": "https://localhost:8080/"
        },
        "id": "AmXUM0jgrvNc",
        "outputId": "243bd217-2864-4bd7-b060-5c7200de8418"
      },
      "outputs": [
        {
          "output_type": "execute_result",
          "data": {
            "text/plain": [
              "22215"
            ]
          },
          "metadata": {},
          "execution_count": 14
        }
      ],
      "source": [
        "food.violations.count()"
      ]
    },
    {
      "cell_type": "code",
      "execution_count": null,
      "metadata": {
        "id": "kockfwvGrvNd"
      },
      "outputs": [],
      "source": []
    }
  ],
  "metadata": {
    "kernelspec": {
      "display_name": "Python 3 (ipykernel)",
      "language": "python",
      "name": "python3"
    },
    "language_info": {
      "codemirror_mode": {
        "name": "ipython",
        "version": 3
      },
      "file_extension": ".py",
      "mimetype": "text/x-python",
      "name": "python",
      "nbconvert_exporter": "python",
      "pygments_lexer": "ipython3",
      "version": "3.9.7"
    },
    "colab": {
      "provenance": [],
      "collapsed_sections": []
    }
  },
  "nbformat": 4,
  "nbformat_minor": 0
}